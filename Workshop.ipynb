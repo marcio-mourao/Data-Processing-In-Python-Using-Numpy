{
 "cells": [
  {
   "cell_type": "markdown",
   "metadata": {
    "nbpresent": {
     "id": "f77e2465-07f3-4ad0-ab0b-970cc19da161"
    }
   },
   "source": [
    "# <center> DATA PROCESSING IN PYTHON USING NUMPY<br/><br/> CSCAR WORKSHOP <br/><br/> 11/01/2018\n",
    "## <center> Marcio Duarte Albasini Mourao"
   ]
  },
  {
   "cell_type": "markdown",
   "metadata": {},
   "source": [
    "Thank you Prof. Kerby Shedden for making available part of the material for this workshop!"
   ]
  },
  {
   "cell_type": "markdown",
   "metadata": {},
   "source": [
    "# <center> Setup\n",
    "\n",
    "* Go to the page https://marcio-mourao.github.io/ <br/><br/>\n",
    "* Click on the html file under \"Data Processing in Python using Numpy\" <br/><br/>\n",
    "* If you really want to use the jupyter-notebook: <br/><br/>\n",
    "    \n",
    "    * First <br/><br/>\n",
    "        * Click on the ipynb file (this should open a new tab)\n",
    "        * Click on the 'Raw' tab\n",
    "        * Save page as 'Worshop.ipynb' to your 'username/Documents' <br/><br/>\n",
    "    \n",
    "    * Second <br/><br/>\n",
    "        * Click the Windows button (Bottom Left Corner)\n",
    "        * Click \"All apps\"\n",
    "        * Click \"Anaconda3\"\n",
    "        * Click \"Anaconda Prompt\"\n",
    "        * Enter \"conda update numpy\" <br/><br/>\n",
    "    \n",
    "    * Third <br/><br/>\n",
    "        * Click the Windows button (Bottom Left Corner)\n",
    "        * Click \"All apps\"\n",
    "        * Click \"Anaconda3\"\n",
    "        * Click \"Jupyter Notebook\"\n",
    "        * Click \"Workshop.ipynb\" (this should open a new tab in the browser)"
   ]
  },
  {
   "cell_type": "markdown",
   "metadata": {},
   "source": [
    "# <center> Introduction\n",
    "\n",
    "  * Don't forget to go to: http://cscar.research.umich.edu/ to know what we're offering!\n",
    "  * Any questions/feedback, you can send an email to <a href=\"mailto:mdam@umich.edu\" target=\"_top\">Marcio.</a>"
   ]
  },
  {
   "cell_type": "markdown",
   "metadata": {},
   "source": [
    "# <center> Summary of this workshop\n",
    "\n",
    "\n",
    "* Summary of Python Data Types <br/><br/>\n",
    "* Numpy <br/><br/>\n",
    "    * Introduction\n",
    "    * Arithmetic Operations\n",
    "    * Indexing and Slicing\n",
    "    * Vectorization\n",
    "    * Reducing functions\n",
    "    * Broadcasting"
   ]
  },
  {
   "cell_type": "markdown",
   "metadata": {},
   "source": [
    "# <center> References\n",
    "\n",
    "* https://www.continuum.io/anaconda-overview\n",
    "* http://www.numpy.org/"
   ]
  },
  {
   "cell_type": "markdown",
   "metadata": {},
   "source": [
    "# <center> Summary of Python Data Types"
   ]
  },
  {
   "cell_type": "markdown",
   "metadata": {},
   "source": [
    "## Python Simple Data Types\n",
    "### Integers\n",
    "### Floats\n",
    "### Strings\n",
    "### Booleans"
   ]
  },
  {
   "cell_type": "markdown",
   "metadata": {},
   "source": [
    "## Python Complex Data Structures"
   ]
  },
  {
   "cell_type": "markdown",
   "metadata": {},
   "source": [
    "### Lists"
   ]
  },
  {
   "cell_type": "code",
   "execution_count": 1,
   "metadata": {},
   "outputs": [
    {
     "name": "stdout",
     "output_type": "stream",
     "text": [
      "[2, 4, 'fg', 8, [3, 4]]\n",
      "2\n",
      "['fg', 8]\n",
      "8\n"
     ]
    }
   ],
   "source": [
    "example_list = [2,4,'fg',8,[3,4]]\n",
    "print(example_list)\n",
    "print(example_list[0])\n",
    "print(example_list[2:4])\n",
    "print(example_list[-2])"
   ]
  },
  {
   "cell_type": "code",
   "execution_count": 2,
   "metadata": {},
   "outputs": [
    {
     "name": "stdout",
     "output_type": "stream",
     "text": [
      "[2, 4, 20, 8, [3, 4]]\n",
      "3\n"
     ]
    }
   ],
   "source": [
    "example_list[2]=20\n",
    "print(example_list)\n",
    "print(example_list[4][0])"
   ]
  },
  {
   "cell_type": "markdown",
   "metadata": {},
   "source": [
    "### Tuples"
   ]
  },
  {
   "cell_type": "code",
   "execution_count": 3,
   "metadata": {},
   "outputs": [
    {
     "name": "stdout",
     "output_type": "stream",
     "text": [
      "(2, 4, 6, 8, 10)\n",
      "4\n"
     ]
    }
   ],
   "source": [
    "example_tuple = (2,4,6,8,10)\n",
    "print(example_tuple)\n",
    "print(example_tuple[1])\n",
    "#example_tuple[2]=20 # This should produce an error."
   ]
  },
  {
   "cell_type": "markdown",
   "metadata": {},
   "source": [
    "### Dictionary"
   ]
  },
  {
   "cell_type": "code",
   "execution_count": 4,
   "metadata": {},
   "outputs": [
    {
     "name": "stdout",
     "output_type": "stream",
     "text": [
      "{'A': 20, 'B': 40, 'C': 60}\n",
      "40\n",
      "{'A': 20, 'B': 40, 'C': 100}\n",
      "dict_keys(['A', 'B', 'C'])\n",
      "dict_values([20, 40, 100])\n"
     ]
    }
   ],
   "source": [
    "example_dictionary = {'A':20,'B':40,'C':60}\n",
    "print(example_dictionary)\n",
    "print(example_dictionary['B'])\n",
    "example_dictionary['C']=100\n",
    "print(example_dictionary)\n",
    "print(example_dictionary.keys())\n",
    "print(example_dictionary.values())"
   ]
  },
  {
   "cell_type": "markdown",
   "metadata": {},
   "source": [
    "# <center> Numpy"
   ]
  },
  {
   "cell_type": "markdown",
   "metadata": {},
   "source": [
    "NumPy is the fundamental package for scientific computing in Python. It is a Python library that provides several array-like data structures, including a multidimensional array object, various derived objects (such as masked arrays and matrices), and an assortment of routines for fast operations on arrays, including mathematical, logical, shape manipulation, sorting, selecting, I/O, discrete Fourier transforms, basic linear algebra, basic statistical operations, random simulation and much more.\n",
    "\n",
    "The most commonly used array-like data structure is the ndarray (“n-dimensional array”) object. An ndarray is a Python wrapper around a contiguous chunk of memory that allows it to be manipulated like an array.\n",
    "\n",
    "Conventionally 'Numpy' is abbreviated as np:"
   ]
  },
  {
   "cell_type": "code",
   "execution_count": 5,
   "metadata": {},
   "outputs": [],
   "source": [
    "import numpy as np"
   ]
  },
  {
   "cell_type": "markdown",
   "metadata": {},
   "source": [
    "Numpy arrays are homogeneous, contiguous, typed arrays. This makes them dramatically faster than core Python lists for many operations, since the Python list stores all values by indirection and is dynamically typed. The main exception to this would be if you need to store heterogeneous data, and/or you need to shrink or grow the array frequently, in which case the Python list type may actually be more efficient."
   ]
  },
  {
   "cell_type": "markdown",
   "metadata": {},
   "source": [
    "There are currently 24 Numpy data types, called “dtypes”, documented here. This includes the usual 12 numeric types (1, 2, 4, and 8 byte signed and unsigned integers, 4 and 8 byte floating point values, and 4 and 8 byte complex number values). In addition there are string, date/time, and Python object dtypes. The default type for many array creation operations is float64, which is an 8 byte floating point value that is mostly interchangeable with a regular Python float value."
   ]
  },
  {
   "cell_type": "markdown",
   "metadata": {},
   "source": [
    "The np.zeros function creates an array of zeros, defaulting to float64 type:"
   ]
  },
  {
   "cell_type": "code",
   "execution_count": 6,
   "metadata": {},
   "outputs": [
    {
     "name": "stdout",
     "output_type": "stream",
     "text": [
      "<class 'numpy.ndarray'>\n",
      "float64\n"
     ]
    }
   ],
   "source": [
    "m = 10\n",
    "x = np.zeros(m) # Sets all values to 0.\n",
    "print(type(x))\n",
    "print(x.dtype)"
   ]
  },
  {
   "cell_type": "markdown",
   "metadata": {},
   "source": [
    "A few other ways to create arrays. Note that each of these functions can take the dtype argument specifying any dtype:"
   ]
  },
  {
   "cell_type": "code",
   "execution_count": 7,
   "metadata": {},
   "outputs": [
    {
     "name": "stdout",
     "output_type": "stream",
     "text": [
      "[1. 1. 1. 1. 1. 1. 1. 1. 1. 1.] float64\n",
      "[0 1 2 3 4 5 6 7 8 9] int64\n",
      "[0. 1. 2. 3. 4. 5. 6. 7. 8. 9.] float64\n"
     ]
    }
   ],
   "source": [
    "x = np.ones(m) # Sets all values to 1.\n",
    "print(x, x.dtype)\n",
    "x = np.arange(m) # 0, 1, 2, ..., m-1.\n",
    "print(x, x.dtype)\n",
    "x = np.arange(m, dtype=np.float64) # 0, 1, 2, ..., m-1.\n",
    "print(x, x.dtype)"
   ]
  },
  {
   "cell_type": "code",
   "execution_count": 8,
   "metadata": {},
   "outputs": [
    {
     "name": "stdout",
     "output_type": "stream",
     "text": [
      "[0 1 2 3 4 5 6 7 8 9] int8\n"
     ]
    }
   ],
   "source": [
    "y = x.astype(np.int8) # Convert to int8.\n",
    "print(y, y.dtype)"
   ]
  },
  {
   "cell_type": "markdown",
   "metadata": {},
   "source": [
    "Numpy provides two main ways to work with string data. The first approach, which is much more common, uses the Python string pool to manage the strings, and simply places the object id’s into the ndarray. This produces an array of type Object, e.g."
   ]
  },
  {
   "cell_type": "code",
   "execution_count": 9,
   "metadata": {},
   "outputs": [
    {
     "data": {
      "text/plain": [
       "dtype('O')"
      ]
     },
     "execution_count": 9,
     "metadata": {},
     "output_type": "execute_result"
    }
   ],
   "source": [
    "x = np.array([\"cat\", \"dog\", \"fish\"], dtype = 'O')\n",
    "x.dtype"
   ]
  },
  {
   "cell_type": "markdown",
   "metadata": {},
   "source": [
    "You can see that this array only contains object id’s by running the following:"
   ]
  },
  {
   "cell_type": "code",
   "execution_count": 10,
   "metadata": {},
   "outputs": [
    {
     "name": "stdout",
     "output_type": "stream",
     "text": [
      "4483767184 4483767184\n"
     ]
    },
    {
     "data": {
      "text/plain": [
       "array(['lion', 'dog', 'fish'], dtype=object)"
      ]
     },
     "execution_count": 10,
     "metadata": {},
     "output_type": "execute_result"
    }
   ],
   "source": [
    "s = \"lion\"\n",
    "x[0] = s\n",
    "print(id(s), id(x[0]))\n",
    "x"
   ]
  },
  {
   "cell_type": "markdown",
   "metadata": {},
   "source": [
    "The other way to store strings in a ndarray is to use a fixed string width, in which case the string data is actually packed into the array directly:"
   ]
  },
  {
   "cell_type": "code",
   "execution_count": 11,
   "metadata": {},
   "outputs": [
    {
     "name": "stdout",
     "output_type": "stream",
     "text": [
      "['cat' 'dog']\n"
     ]
    },
    {
     "data": {
      "text/plain": [
       "dtype('<U3')"
      ]
     },
     "execution_count": 11,
     "metadata": {},
     "output_type": "execute_result"
    }
   ],
   "source": [
    "x = np.array([\"cat\", \"dog\"])\n",
    "print(x)\n",
    "x.dtype"
   ]
  },
  {
   "cell_type": "markdown",
   "metadata": {},
   "source": [
    "The dtype “<U3” refers to a Unicode string of 3 characters. Note that in this setting, if you attempt to assign a string that does not fit into the allotted storage, the string is truncated:"
   ]
  },
  {
   "cell_type": "code",
   "execution_count": 12,
   "metadata": {},
   "outputs": [
    {
     "name": "stdout",
     "output_type": "stream",
     "text": [
      "['fis' 'dog']\n"
     ]
    }
   ],
   "source": [
    "x[0] = \"fish\"\n",
    "print(x)"
   ]
  },
  {
   "cell_type": "markdown",
   "metadata": {},
   "source": [
    "## Arithmetic operations"
   ]
  },
  {
   "cell_type": "markdown",
   "metadata": {},
   "source": [
    "Lets see (remind ourselves) what happens when you sum two lists:"
   ]
  },
  {
   "cell_type": "code",
   "execution_count": 13,
   "metadata": {},
   "outputs": [],
   "source": [
    "operand1 = [1,2,3]\n",
    "operand2 = [4,5]"
   ]
  },
  {
   "cell_type": "code",
   "execution_count": 14,
   "metadata": {},
   "outputs": [
    {
     "name": "stdout",
     "output_type": "stream",
     "text": [
      "<class 'list'>\n",
      "<class 'list'>\n"
     ]
    },
    {
     "data": {
      "text/plain": [
       "[1, 2, 3, 4, 5]"
      ]
     },
     "execution_count": 14,
     "metadata": {},
     "output_type": "execute_result"
    }
   ],
   "source": [
    "print(type(operand1))\n",
    "print(type(operand2))\n",
    "operand1 + operand2"
   ]
  },
  {
   "cell_type": "markdown",
   "metadata": {},
   "source": [
    "Unlike Python lists, Numpy arrays behave like mathematical vectors and matrices with respect to arithmetic operations, e.g. you can do something like this:"
   ]
  },
  {
   "cell_type": "code",
   "execution_count": 15,
   "metadata": {},
   "outputs": [
    {
     "name": "stdout",
     "output_type": "stream",
     "text": [
      "[0 1 2 3 4]\n",
      "[1 2 3 4 5]\n"
     ]
    }
   ],
   "source": [
    "x = np.arange(5)\n",
    "y = np.arange(1, 6)\n",
    "print(x)\n",
    "print(y)"
   ]
  },
  {
   "cell_type": "code",
   "execution_count": 16,
   "metadata": {},
   "outputs": [
    {
     "name": "stdout",
     "output_type": "stream",
     "text": [
      "[1 3 5 7 9]\n",
      "[-1 -1 -1 -1 -1]\n",
      "[0.         0.5        0.66666667 0.75       0.8       ]\n",
      "[   0    1    8   81 1024]\n",
      "[0 1 2 3 4]\n",
      "[ 0  2  6 12 20]\n"
     ]
    }
   ],
   "source": [
    "print(x + y)  # Pointwise sum.\n",
    "print(x - y)  # Pointwise difference.\n",
    "print(x / y)  # Pointwise quotient.\n",
    "print(x ** y) # Pointwise exponentiation.\n",
    "print(x % y)  # Pointwise remainder.\n",
    "print(x * y)  # Pointwise product."
   ]
  },
  {
   "cell_type": "code",
   "execution_count": 17,
   "metadata": {},
   "outputs": [
    {
     "data": {
      "text/plain": [
       "(array([[1., 1., 1., 1.],\n",
       "        [1., 1., 1., 1.],\n",
       "        [1., 1., 1., 1.]]), dtype('float64'))"
      ]
     },
     "execution_count": 17,
     "metadata": {},
     "output_type": "execute_result"
    }
   ],
   "source": [
    "x = np.ones((3,4)) # Creates a two dimensional numpy array.\n",
    "x, x.dtype"
   ]
  },
  {
   "cell_type": "code",
   "execution_count": 18,
   "metadata": {},
   "outputs": [
    {
     "name": "stdout",
     "output_type": "stream",
     "text": [
      "2\n",
      "(3, 4)\n",
      "12\n"
     ]
    }
   ],
   "source": [
    "print(x.ndim)  # Returns number of dimensions in an array.\n",
    "print(x.shape) # Return tuple describing array shape.\n",
    "print(x.size)  # Returns number of elements."
   ]
  },
  {
   "cell_type": "code",
   "execution_count": 19,
   "metadata": {},
   "outputs": [],
   "source": [
    "y = np.array([[1, 2], [3, 4]])\n",
    "z = np.array([[5, 6], [7, 8]])"
   ]
  },
  {
   "cell_type": "code",
   "execution_count": 20,
   "metadata": {},
   "outputs": [
    {
     "name": "stdout",
     "output_type": "stream",
     "text": [
      "[[1 2]\n",
      " [3 4]]\n",
      "[[5 6]\n",
      " [7 8]]\n"
     ]
    }
   ],
   "source": [
    "print(y)\n",
    "print(z)"
   ]
  },
  {
   "cell_type": "code",
   "execution_count": 21,
   "metadata": {},
   "outputs": [
    {
     "data": {
      "text/plain": [
       "array([[ 6,  8],\n",
       "       [10, 12]])"
      ]
     },
     "execution_count": 21,
     "metadata": {},
     "output_type": "execute_result"
    }
   ],
   "source": [
    "y + z # Summs element wise."
   ]
  },
  {
   "cell_type": "code",
   "execution_count": 22,
   "metadata": {},
   "outputs": [
    {
     "data": {
      "text/plain": [
       "array([[0.2 , 0.33],\n",
       "       [0.43, 0.5 ]])"
      ]
     },
     "execution_count": 22,
     "metadata": {},
     "output_type": "execute_result"
    }
   ],
   "source": [
    "np.round(y / z, 2) # Divides element wise."
   ]
  },
  {
   "cell_type": "markdown",
   "metadata": {},
   "source": [
    "An easy way to avoid making copies when performing array arithmetic in Numpy is to use the in-place arithmetic operators +=, *=, etc. When we use x = x + y, a new allocation is made to hold the value x + y, and this allocated memory is then assigned to x, with the previous memory block of x (eventually) being garbage collected. But x += y does not result in a new allocation, as seen below:"
   ]
  },
  {
   "cell_type": "code",
   "execution_count": 23,
   "metadata": {},
   "outputs": [
    {
     "name": "stdout",
     "output_type": "stream",
     "text": [
      "4503799408\n",
      "4503799568\n",
      "[[ 6  8]\n",
      " [10 12]]\n"
     ]
    }
   ],
   "source": [
    "y = np.array([[1, 2], [3, 4]])\n",
    "z = np.array([[5, 6], [7, 8]])\n",
    "\n",
    "print(id(y))\n",
    "y = y + z   # Regular sum.\n",
    "print(id(y))\n",
    "print(y)"
   ]
  },
  {
   "cell_type": "code",
   "execution_count": 24,
   "metadata": {},
   "outputs": [
    {
     "name": "stdout",
     "output_type": "stream",
     "text": [
      "4503799248\n",
      "4503799248\n",
      "[[ 6  8]\n",
      " [10 12]]\n"
     ]
    }
   ],
   "source": [
    "y = np.array([[1, 2], [3, 4]])\n",
    "z = np.array([[5, 6], [7, 8]])\n",
    "\n",
    "print(id(y))\n",
    "y += z        # In-place sum.\n",
    "print(id(y))\n",
    "print(y)"
   ]
  },
  {
   "cell_type": "markdown",
   "metadata": {},
   "source": [
    "## Indexing and Slicing"
   ]
  },
  {
   "cell_type": "markdown",
   "metadata": {},
   "source": [
    "Indexing and slicing numpy arrays behaves similarly to indexing and slicing in Python lists. However, slices will normally return a “view” of the underlying data, meaning that if you change a slice, the same values will change in the parent array.\n",
    "\n",
    "Lets start with an example of a list and then move on to a numpy array:"
   ]
  },
  {
   "cell_type": "code",
   "execution_count": 25,
   "metadata": {},
   "outputs": [],
   "source": [
    "x = list(range(10))\n",
    "y = x[3:6]\n",
    "y[0] = 99"
   ]
  },
  {
   "cell_type": "code",
   "execution_count": 26,
   "metadata": {},
   "outputs": [
    {
     "name": "stdout",
     "output_type": "stream",
     "text": [
      "[0, 1, 2, 3, 4, 5, 6, 7, 8, 9] [99, 4, 5]\n",
      "4503702600 4484391560\n"
     ]
    }
   ],
   "source": [
    "print(x,y)\n",
    "print(id(x),id(y))"
   ]
  },
  {
   "cell_type": "code",
   "execution_count": 27,
   "metadata": {},
   "outputs": [],
   "source": [
    "x = np.arange(10)\n",
    "y = x[3:6]\n",
    "y[0] = 99"
   ]
  },
  {
   "cell_type": "code",
   "execution_count": 28,
   "metadata": {},
   "outputs": [
    {
     "name": "stdout",
     "output_type": "stream",
     "text": [
      "[ 0  1  2 99  4  5  6  7  8  9] [99  4  5]\n",
      "4503798768 4503800688\n"
     ]
    }
   ],
   "source": [
    "print(x,y)\n",
    "print(id(x),id(y))"
   ]
  },
  {
   "cell_type": "code",
   "execution_count": 29,
   "metadata": {},
   "outputs": [
    {
     "data": {
      "text/plain": [
       "array([[1, 2],\n",
       "       [3, 4]])"
      ]
     },
     "execution_count": 29,
     "metadata": {},
     "output_type": "execute_result"
    }
   ],
   "source": [
    "x = np.array([[1, 2], [3, 4]])\n",
    "x"
   ]
  },
  {
   "cell_type": "code",
   "execution_count": 30,
   "metadata": {},
   "outputs": [
    {
     "name": "stdout",
     "output_type": "stream",
     "text": [
      "[1 2]\n",
      "[[3 4]]\n",
      "2\n",
      "2\n"
     ]
    }
   ],
   "source": [
    "print(x[0]) # Returns the first line.\n",
    "print(x[1:]) # Returns a similar structure to x with the second line.\n",
    "print(x[0][1]) # Returns the second element of the first line.\n",
    "print(x[0,1]) # A more concise way of writing the above lookup."
   ]
  },
  {
   "cell_type": "markdown",
   "metadata": {},
   "source": [
    "Again, slices will normally return a “view” of the underlying data, meaning that if you change a slice, the same values will change in the parent array. This is also the case with higher dimensional cases:"
   ]
  },
  {
   "cell_type": "code",
   "execution_count": 31,
   "metadata": {},
   "outputs": [],
   "source": [
    "x = np.array([[1, 2, 3], [4, 5, 6]])\n",
    "y = x[:,0] # retrieves the first column.\n",
    "y[1]=100 # modifies its element."
   ]
  },
  {
   "cell_type": "code",
   "execution_count": 32,
   "metadata": {},
   "outputs": [
    {
     "name": "stdout",
     "output_type": "stream",
     "text": [
      "[[  1   2   3]\n",
      " [100   5   6]]\n",
      "[  1 100]\n"
     ]
    }
   ],
   "source": [
    "print(x)\n",
    "print(y)"
   ]
  },
  {
   "cell_type": "markdown",
   "metadata": {},
   "source": [
    "What if you would like to not have such behavior?"
   ]
  },
  {
   "cell_type": "code",
   "execution_count": 33,
   "metadata": {},
   "outputs": [],
   "source": [
    "x = np.array([[1, 2, 3], [4, 5, 6]])\n",
    "y = x[:,0].copy() # retrieves the first column (now a copy of it)\n",
    "y[1]=100 # modifies its element."
   ]
  },
  {
   "cell_type": "code",
   "execution_count": 34,
   "metadata": {},
   "outputs": [
    {
     "name": "stdout",
     "output_type": "stream",
     "text": [
      "[[1 2 3]\n",
      " [4 5 6]]\n",
      "[  1 100]\n"
     ]
    }
   ],
   "source": [
    "print(x)\n",
    "print(y)"
   ]
  },
  {
   "cell_type": "markdown",
   "metadata": {},
   "source": [
    "Now suppose you want to retrieve elements from the first and the third columns of x:"
   ]
  },
  {
   "cell_type": "code",
   "execution_count": 35,
   "metadata": {},
   "outputs": [],
   "source": [
    "x = np.array([[1, 2, 3], [4, 5, 6]])\n",
    "y = x[:,[0,2]] # We use a list to index - this is also called advanced or fancy indexing.\n",
    "y[1]=100"
   ]
  },
  {
   "cell_type": "code",
   "execution_count": 36,
   "metadata": {},
   "outputs": [
    {
     "name": "stdout",
     "output_type": "stream",
     "text": [
      "[[1 2 3]\n",
      " [4 5 6]]\n",
      "[[  1   3]\n",
      " [100 100]]\n"
     ]
    }
   ],
   "source": [
    "print(x)\n",
    "print(y)"
   ]
  },
  {
   "cell_type": "markdown",
   "metadata": {},
   "source": [
    "When you use advanced indexing, no view is provided and a copy of the original object will be made."
   ]
  },
  {
   "cell_type": "code",
   "execution_count": 37,
   "metadata": {},
   "outputs": [],
   "source": [
    "x = np.array([[1,2], [3,4], [5,6]])\n",
    "y = x[[-1,-2],:] # Another example of advanced indexing with negative indices."
   ]
  },
  {
   "cell_type": "code",
   "execution_count": 38,
   "metadata": {},
   "outputs": [
    {
     "name": "stdout",
     "output_type": "stream",
     "text": [
      "[[1 2]\n",
      " [3 4]\n",
      " [5 6]]\n",
      "[[5 6]\n",
      " [3 4]]\n"
     ]
    }
   ],
   "source": [
    "print(x)\n",
    "print(y)"
   ]
  },
  {
   "cell_type": "code",
   "execution_count": 39,
   "metadata": {},
   "outputs": [
    {
     "data": {
      "text/plain": [
       "array([[ 1, -2],\n",
       "       [ 3,  4],\n",
       "       [-5,  6]])"
      ]
     },
     "execution_count": 39,
     "metadata": {},
     "output_type": "execute_result"
    }
   ],
   "source": [
    "x = np.array([[1,-2], [3,4], [-5,6]])\n",
    "x"
   ]
  },
  {
   "cell_type": "code",
   "execution_count": 40,
   "metadata": {},
   "outputs": [
    {
     "data": {
      "text/plain": [
       "array([[False,  True],\n",
       "       [False, False],\n",
       "       [ True, False]])"
      ]
     },
     "execution_count": 40,
     "metadata": {},
     "output_type": "execute_result"
    }
   ],
   "source": [
    "x < 0 # x < 0 is a boolean array."
   ]
  },
  {
   "cell_type": "code",
   "execution_count": 41,
   "metadata": {},
   "outputs": [
    {
     "data": {
      "text/plain": [
       "array([[1, 0],\n",
       "       [3, 4],\n",
       "       [0, 6]])"
      ]
     },
     "execution_count": 41,
     "metadata": {},
     "output_type": "execute_result"
    }
   ],
   "source": [
    "x[x<0]=0 # This is called boolean indexing. Here I am setting negative entries to zero.\n",
    "x"
   ]
  },
  {
   "cell_type": "markdown",
   "metadata": {},
   "source": [
    "## Vectorization"
   ]
  },
  {
   "cell_type": "markdown",
   "metadata": {},
   "source": [
    "Vectorization within NumPy is used to express operations as occurring on entire arrays rather than in their individual elements. Here’s a definition from Wes McKinney:\n",
    "\n",
    "\"\n",
    "This practice of replacing explicit loops with array expressions is commonly referred to as vectorization. In general, vectorized array operations will often be one or two (or more) orders of magnitude faster than their pure Python equivalents, with the biggest impact seen in any kind of numerical computations. (see [here](https://www.safaribooksonline.com/library/view/python-for-data/9781449323592/ch04.html?orpq))\n",
    "\"\n",
    "\n",
    "Lets see an example:"
   ]
  },
  {
   "cell_type": "code",
   "execution_count": 42,
   "metadata": {},
   "outputs": [
    {
     "data": {
      "text/plain": [
       "array([False,  True,  True,  True, False,  True,  True,  True, False,\n",
       "        True])"
      ]
     },
     "execution_count": 42,
     "metadata": {},
     "output_type": "execute_result"
    }
   ],
   "source": [
    "values = np.random.choice([True,False], size=500)\n",
    "values[:10] # Only showing a few values."
   ]
  },
  {
   "cell_type": "code",
   "execution_count": 43,
   "metadata": {},
   "outputs": [],
   "source": [
    "def count_transitions1(values):\n",
    "    \"\"\"Returns the number of transitions from either False to True or from True to False\"\"\"\n",
    "    output = 0\n",
    "    for x,y in zip(values[:-1],values[1:]):\n",
    "        if x!=y:\n",
    "            output+=1\n",
    "    return output"
   ]
  },
  {
   "cell_type": "code",
   "execution_count": 44,
   "metadata": {},
   "outputs": [],
   "source": [
    "def count_transitions2(values):\n",
    "    \"\"\"Returns the number of transitions from either False to True or from True to False\"\"\"\n",
    "    output = np.sum(values[:-1]!=values[1:])\n",
    "    return output"
   ]
  },
  {
   "cell_type": "code",
   "execution_count": 45,
   "metadata": {},
   "outputs": [
    {
     "name": "stdout",
     "output_type": "stream",
     "text": [
      "244\n",
      "244\n"
     ]
    }
   ],
   "source": [
    "print(count_transitions1(values))\n",
    "print(count_transitions2(values))"
   ]
  },
  {
   "cell_type": "code",
   "execution_count": 46,
   "metadata": {},
   "outputs": [
    {
     "name": "stdout",
     "output_type": "stream",
     "text": [
      "743 µs ± 26.2 µs per loop (mean ± std. dev. of 7 runs, 1000 loops each)\n",
      "5.6 µs ± 155 ns per loop (mean ± std. dev. of 7 runs, 1000 loops each)\n"
     ]
    }
   ],
   "source": [
    "%timeit -n 1000 count_transitions1(values)\n",
    "%timeit -n 1000 count_transitions2(values)"
   ]
  },
  {
   "cell_type": "markdown",
   "metadata": {},
   "source": [
    "## Reducing functions"
   ]
  },
  {
   "cell_type": "markdown",
   "metadata": {},
   "source": [
    "Numpy has reducing functions that collapse a multidimensional array to one single axis. The axes are numbered 0 (rows), 1 (columns), etc. The following is an example with a two dimensional array:"
   ]
  },
  {
   "cell_type": "code",
   "execution_count": 47,
   "metadata": {},
   "outputs": [
    {
     "data": {
      "text/plain": [
       "array([[ 0.15361834, -0.9323961 ,  1.75365335,  0.6873561 , -0.71543811,\n",
       "        -0.87553558, -0.2796889 , -0.81073661,  0.61154874, -0.32439873],\n",
       "       [-0.84302238,  1.42273214,  0.64274908,  0.37132493, -1.11154913,\n",
       "        -1.17341762, -0.08164711, -1.65344367,  0.54347979, -0.74886795],\n",
       "       [ 0.1511163 ,  0.45450572, -1.0101531 ,  1.03196016,  0.25439743,\n",
       "        -2.65277939, -0.29970784, -1.99011286, -1.4167083 ,  0.57062254],\n",
       "       [-0.84188876, -0.18655635,  1.69137886, -0.12858569, -0.33067509,\n",
       "         0.32722261,  0.17815516,  0.30888332,  0.97169305,  0.30049232],\n",
       "       [-0.83882225,  1.4915064 ,  1.68740924, -0.78893662, -2.45055652,\n",
       "         0.32969387, -0.96120084,  0.63815445,  0.93880032, -0.57658747]])"
      ]
     },
     "execution_count": 47,
     "metadata": {},
     "output_type": "execute_result"
    }
   ],
   "source": [
    "x = np.random.normal(size=(5,10))\n",
    "x"
   ]
  },
  {
   "cell_type": "code",
   "execution_count": 48,
   "metadata": {},
   "outputs": [
    {
     "name": "stdout",
     "output_type": "stream",
     "text": [
      "[-0.44379975  0.44995836  0.95300749  0.23462378 -0.87076428 -0.80896322\n",
      " -0.28881791 -0.70145107  0.32976272 -0.15574786]\n",
      "[-0.07320175 -0.26316619 -0.49068593  0.22901194 -0.05305394]\n"
     ]
    }
   ],
   "source": [
    "print(x.mean(0)) # column-wise means, size=10.\n",
    "print(x.mean(1)) # row-wise means, size=5."
   ]
  },
  {
   "cell_type": "markdown",
   "metadata": {},
   "source": [
    "## Broadcasting"
   ]
  },
  {
   "cell_type": "markdown",
   "metadata": {},
   "source": [
    "The term broadcasting describes how numpy treats arrays with different shapes during arithmetic operations. Subject to certain constraints, the smaller array is “broadcast” across the larger array so that they have compatible shapes. Broadcasting provides a means of vectorizing array operations so that looping occurs in C instead of Python."
   ]
  },
  {
   "cell_type": "markdown",
   "metadata": {},
   "source": [
    "One use of broadcasting is if we want to center or scale an array by column:"
   ]
  },
  {
   "cell_type": "code",
   "execution_count": 49,
   "metadata": {},
   "outputs": [
    {
     "name": "stdout",
     "output_type": "stream",
     "text": [
      "4503846624\n",
      "[0.49848957 0.50341735 0.49999011 0.50023852]\n",
      "[0.28743465 0.28775098 0.29027135 0.28880233]\n",
      "(10000, 4)\n",
      "(4,)\n",
      "[-2.34228192e-15 -3.42936790e-15 -4.23601154e-15  4.32884839e-15]\n",
      "[1. 1. 1. 1.]\n",
      "4503846624\n"
     ]
    }
   ],
   "source": [
    "x = np.random.random(size=(10000, 4))\n",
    "print(id(x))\n",
    "\n",
    "print(x.mean(0))\n",
    "print(x.std(0))\n",
    "\n",
    "print(x.shape)\n",
    "print(x.mean(0).shape)\n",
    "\n",
    "x -= x.mean(0)\n",
    "x /= x.std(0)\n",
    "\n",
    "print(x.mean(0))\n",
    "print(x.std(0))\n",
    "\n",
    "print(id(x))"
   ]
  },
  {
   "cell_type": "markdown",
   "metadata": {},
   "source": [
    "In the example above, x.mean(0) returns an array with dimension (4,), which matches from the right with the dimension of x, which is (10000,4). Therefore the shapes are compatible for broadcasting. The behavior in this case is that the result of x.mean(0) is only computed one time, and the same result is used for centering each row of x."
   ]
  },
  {
   "cell_type": "markdown",
   "metadata": {},
   "source": [
    "There is a special case of the broadcasting rules that applies when a dimension’s length is equal to 1. In this case, the value in that dimension is copied to match the dimension on the same axis in the other array:"
   ]
  },
  {
   "cell_type": "code",
   "execution_count": 50,
   "metadata": {},
   "outputs": [
    {
     "data": {
      "text/plain": [
       "array([2., 3., 4.])"
      ]
     },
     "execution_count": 50,
     "metadata": {},
     "output_type": "execute_result"
    }
   ],
   "source": [
    "a = np.array([10.0, 15.0, 20.0])\n",
    "b = np.array([5.0, 5.0, 5.0])\n",
    "a / b"
   ]
  },
  {
   "cell_type": "code",
   "execution_count": 51,
   "metadata": {},
   "outputs": [
    {
     "name": "stdout",
     "output_type": "stream",
     "text": [
      "(3,)\n",
      "(1,)\n"
     ]
    },
    {
     "data": {
      "text/plain": [
       "array([2., 3., 4.])"
      ]
     },
     "execution_count": 51,
     "metadata": {},
     "output_type": "execute_result"
    }
   ],
   "source": [
    "a = np.array([10.0, 15.0, 20.0])\n",
    "print(a.shape)\n",
    "b = np.array([5.0])\n",
    "print(b.shape)\n",
    "a / b"
   ]
  },
  {
   "cell_type": "code",
   "execution_count": 52,
   "metadata": {},
   "outputs": [
    {
     "name": "stdout",
     "output_type": "stream",
     "text": [
      "[[-1.42709134 -1.23543264]\n",
      " [-1.95143571  0.83955878]\n",
      " [-0.79188457 -1.46913012]\n",
      " [ 0.16114464 -0.31243844]\n",
      " [-2.30882339  1.04068704]\n",
      " [ 2.17504989  1.87153516]\n",
      " [ 0.50688296 -0.32216532]\n",
      " [-1.39755324 -0.09783976]\n",
      " [-1.11557     0.09074254]\n",
      " [-0.67935513  1.755363  ]]\n"
     ]
    }
   ],
   "source": [
    "x = np.random.normal(size=(10, 2))\n",
    "y = np.random.normal(size=(10, 1))\n",
    "print(x + y)"
   ]
  },
  {
   "cell_type": "markdown",
   "metadata": {},
   "source": [
    "There is also a special syntax for adding a new axis of length 1 to an array:"
   ]
  },
  {
   "cell_type": "code",
   "execution_count": 53,
   "metadata": {},
   "outputs": [
    {
     "data": {
      "text/plain": [
       "array([0., 0., 0., 0., 0., 0., 0., 0., 0., 0.])"
      ]
     },
     "execution_count": 53,
     "metadata": {},
     "output_type": "execute_result"
    }
   ],
   "source": [
    "x = np.zeros(10)  # shape is (10,).\n",
    "x"
   ]
  },
  {
   "cell_type": "code",
   "execution_count": 54,
   "metadata": {},
   "outputs": [
    {
     "data": {
      "text/plain": [
       "array([[0.],\n",
       "       [0.],\n",
       "       [0.],\n",
       "       [0.],\n",
       "       [0.],\n",
       "       [0.],\n",
       "       [0.],\n",
       "       [0.],\n",
       "       [0.],\n",
       "       [0.]])"
      ]
     },
     "execution_count": 54,
     "metadata": {},
     "output_type": "execute_result"
    }
   ],
   "source": [
    "y = x[:, None]    # shape is (10,1).\n",
    "y"
   ]
  },
  {
   "cell_type": "code",
   "execution_count": 55,
   "metadata": {},
   "outputs": [
    {
     "data": {
      "text/plain": [
       "array([[0., 0., 0., 0., 0., 0., 0., 0., 0., 0.]])"
      ]
     },
     "execution_count": 55,
     "metadata": {},
     "output_type": "execute_result"
    }
   ],
   "source": [
    "z = x[None, :]    # shape is (1,10).\n",
    "z"
   ]
  },
  {
   "cell_type": "markdown",
   "metadata": {},
   "source": [
    "A common setting where this is useful is when you want to center or scale a two-dimensional array by row. Adding a new column with dimension 1 allows the broadcasting rules to apply when they otherwise would not:"
   ]
  },
  {
   "cell_type": "code",
   "execution_count": 56,
   "metadata": {},
   "outputs": [],
   "source": [
    "x = np.random.normal(size=(10, 3))\n",
    "x -= x.mean(1)[:, None]\n",
    "x /= x.std(1)[:, None]"
   ]
  },
  {
   "cell_type": "markdown",
   "metadata": {},
   "source": [
    "See the intermediate values below:"
   ]
  },
  {
   "cell_type": "code",
   "execution_count": 57,
   "metadata": {},
   "outputs": [
    {
     "data": {
      "text/plain": [
       "(array([-2.96059473e-16, -1.11022302e-16, -3.70074342e-17,  2.22044605e-16,\n",
       "         0.00000000e+00,  7.40148683e-17, -7.40148683e-17,  2.22044605e-16,\n",
       "         0.00000000e+00,  0.00000000e+00]), (10,))"
      ]
     },
     "execution_count": 57,
     "metadata": {},
     "output_type": "execute_result"
    }
   ],
   "source": [
    "x.mean(1), x.mean(1).shape"
   ]
  },
  {
   "cell_type": "code",
   "execution_count": 58,
   "metadata": {},
   "outputs": [
    {
     "data": {
      "text/plain": [
       "(array([[-2.96059473e-16],\n",
       "        [-1.11022302e-16],\n",
       "        [-3.70074342e-17],\n",
       "        [ 2.22044605e-16],\n",
       "        [ 0.00000000e+00],\n",
       "        [ 7.40148683e-17],\n",
       "        [-7.40148683e-17],\n",
       "        [ 2.22044605e-16],\n",
       "        [ 0.00000000e+00],\n",
       "        [ 0.00000000e+00]]), (10, 1))"
      ]
     },
     "execution_count": 58,
     "metadata": {},
     "output_type": "execute_result"
    }
   ],
   "source": [
    "x.mean(1)[:, None], x.mean(1)[:, None].shape"
   ]
  },
  {
   "cell_type": "markdown",
   "metadata": {},
   "source": [
    "## Conclusion"
   ]
  },
  {
   "cell_type": "markdown",
   "metadata": {},
   "source": [
    "Numpy is one of many tools designed from the 1980’s to the early 2000’s for array manipulation. These tools tend to follow a common set of design principles, namely:\n",
    "\n",
    "* Arrays are contiguous in memory.\n",
    "* Memory management is dynamic and mostly invisible.\n",
    "* Mathematical operations are expressed in the same syntax that we usually use to write mathematics on paper, e.g. x = y + z assigns to x the pointwise sum of y and z."
   ]
  }
 ],
 "metadata": {
  "anaconda-cloud": {},
  "kernelspec": {
   "display_name": "Python 3",
   "language": "python",
   "name": "python3"
  },
  "language_info": {
   "codemirror_mode": {
    "name": "ipython",
    "version": 3
   },
   "file_extension": ".py",
   "mimetype": "text/x-python",
   "name": "python",
   "nbconvert_exporter": "python",
   "pygments_lexer": "ipython3",
   "version": "3.6.6"
  },
  "nbpresent": {
   "slides": {
    "8ce21dab-2b7a-439c-8f0a-8a1036a1ac0d": {
     "id": "8ce21dab-2b7a-439c-8f0a-8a1036a1ac0d",
     "prev": null,
     "regions": {
      "d8401624-efe9-4853-a676-de863b4ba3cd": {
       "attrs": {
        "height": 1,
        "width": 1,
        "x": 0,
        "y": 0
       },
       "id": "d8401624-efe9-4853-a676-de863b4ba3cd"
      }
     },
     "theme": null
    }
   },
   "themes": {}
  }
 },
 "nbformat": 4,
 "nbformat_minor": 2
}
